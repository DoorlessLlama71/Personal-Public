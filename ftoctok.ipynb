{
 "cells": [
  {
   "cell_type": "code",
   "execution_count": 1,
   "id": "087de001",
   "metadata": {},
   "outputs": [],
   "source": [
    "# Key:\n",
    "#^^ means up\n",
    "#vv means down\n",
    "#K=kel=Kelvin\n",
    "#C=cel=Celsius\n",
    "#F=far=Fahrenheit"
   ]
  },
  {
   "cell_type": "markdown",
   "id": "572d5104",
   "metadata": {},
   "source": [
    "# C = 5/9(F-32)\n",
    "//given(^^), isolating F(vv)\n",
    "(9/5)*C=F-32\n",
    "# F = (9/5)*C+32\n",
    "\n",
    "# K = C+273.15 \n",
    "//given(^^), isolating C(vv)\n",
    "# C = K-273.15\n",
    "//going to substitue to find K to F\n",
    "# F = (9/5)*(K-273.15)+32\n",
    "# K = 5/9(F-32)+273.25"
   ]
  },
  {
   "cell_type": "code",
   "execution_count": 2,
   "id": "b1d27f8f",
   "metadata": {},
   "outputs": [
    {
     "name": "stdout",
     "output_type": "stream",
     "text": [
      "Please enter a fahrenheit value: 32\n",
      "32.0°F is approximately 0.0°C and 273.15 K\n",
      "Note: All calculations rounded to 2 decimal places\n"
     ]
    }
   ],
   "source": [
    "#farToCelAndKel\n",
    "#did all calculations based on original value to practice\n",
    "far = float(input(\"Please enter a fahrenheit value: \"))\n",
    "cel = (5/9)*(far-32)\n",
    "kel= (5/9)*(far-32)+273.15\n",
    "print(str(far) + \"°F is approximately \" + str(round(cel,2)) + \"°C\" + \" and \" + str(round(kel,2)) + \" K\\nNote: All calculations rounded to 2 decimal places\")\n"
   ]
  },
  {
   "cell_type": "code",
   "execution_count": 3,
   "id": "50e083e7",
   "metadata": {},
   "outputs": [
    {
     "name": "stdout",
     "output_type": "stream",
     "text": [
      "Please enter a celsius value: 0\n",
      "0.0°C is approximately 32.0°F and 273.15 K\n",
      "Note: All calculations rounded to 2 decimal places\n"
     ]
    }
   ],
   "source": [
    "#celToFarAndKel\n",
    "#did all calculations based on original value to practice\n",
    "cel = float(input(\"Please enter a celsius value: \"))\n",
    "far = (9/5)*(cel)+32\n",
    "kel= cel + 273.15\n",
    "print(str(cel) + \"°C is approximately \" + str(round(far,2)) + \"°F\"  + \" and \" + str(round(kel,2)) + \" K\\nNote: All calculations rounded to 2 decimal places\")\n"
   ]
  },
  {
   "cell_type": "code",
   "execution_count": 4,
   "id": "439bb3ce",
   "metadata": {},
   "outputs": [
    {
     "name": "stdout",
     "output_type": "stream",
     "text": [
      "Please enter a kelvin value: 0\n",
      "0.0 K is approximately -273.15°C and -459.67°F\n",
      "Note: All calculations rounded to 2 decimal places\n"
     ]
    }
   ],
   "source": [
    "#kelToCelAndFar\n",
    "#did all calculations based on original value to practice\n",
    "kel = float(input(\"Please enter a kelvin value: \"))\n",
    "cel = kel-273.15\n",
    "far= (9/5)*(kel-273.15)+32\n",
    "print(str(kel) + \" K is approximately \" + str(round(cel,2)) + \"°C\"  + \" and \" + str(round(far,2)) + \"°F\\nNote: All calculations rounded to 2 decimal places\")\n"
   ]
  },
  {
   "cell_type": "code",
   "execution_count": null,
   "id": "a41b849e",
   "metadata": {},
   "outputs": [],
   "source": []
  }
 ],
 "metadata": {
  "kernelspec": {
   "display_name": "Python 3 (ipykernel)",
   "language": "python",
   "name": "python3"
  },
  "language_info": {
   "codemirror_mode": {
    "name": "ipython",
    "version": 3
   },
   "file_extension": ".py",
   "mimetype": "text/x-python",
   "name": "python",
   "nbconvert_exporter": "python",
   "pygments_lexer": "ipython3",
   "version": "3.9.7"
  }
 },
 "nbformat": 4,
 "nbformat_minor": 5
}
